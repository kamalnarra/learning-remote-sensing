{
 "cells": [
  {
   "cell_type": "code",
   "execution_count": 30,
   "metadata": {},
   "outputs": [],
   "source": [
    "#IMPORTS\n",
    "\n",
    "import os\n",
    "import numpy as np\n",
    "import pandas as pd\n",
    "import matplotlib.pyplot as plt\n",
    "from matplotlib.ticker import ScalarFormatter\n",
    "import seaborn as sns\n",
    "import geopandas as gpd\n",
    "from shapely.geometry import Point\n",
    "import earthpy as et"
   ]
  },
  {
   "cell_type": "code",
   "execution_count": 31,
   "metadata": {},
   "outputs": [],
   "source": [
    "#FORMAT PLOT\n",
    "sns.set(font_scale=1.5)\n",
    "sns.set_style(\"white\")"
   ]
  },
  {
   "cell_type": "code",
   "execution_count": 32,
   "metadata": {},
   "outputs": [
    {
     "ename": "DriverError",
     "evalue": "global\\ne_110m_land\\ne_110m_land.shp: No such file or directory",
     "output_type": "error",
     "traceback": [
      "\u001b[1;31m---------------------------------------------------------------------------\u001b[0m",
      "\u001b[1;31mCPLE_OpenFailedError\u001b[0m                      Traceback (most recent call last)",
      "File \u001b[1;32mfiona\\_shim.pyx:83\u001b[0m, in \u001b[0;36mfiona._shim.gdal_open_vector\u001b[1;34m()\u001b[0m\n",
      "File \u001b[1;32mfiona\\_err.pyx:291\u001b[0m, in \u001b[0;36mfiona._err.exc_wrap_pointer\u001b[1;34m()\u001b[0m\n",
      "\u001b[1;31mCPLE_OpenFailedError\u001b[0m: global\\ne_110m_land\\ne_110m_land.shp: No such file or directory",
      "\nDuring handling of the above exception, another exception occurred:\n",
      "\u001b[1;31mDriverError\u001b[0m                               Traceback (most recent call last)",
      "\u001b[1;32mUntitled-1.ipynb Cell 3'\u001b[0m in \u001b[0;36m<module>\u001b[1;34m\u001b[0m\n\u001b[0;32m      <a href='vscode-notebook-cell:Untitled-1.ipynb?jupyter-notebook#ch0000002untitled?line=6'>7</a>\u001b[0m \u001b[39m#getting the data\u001b[39;00m\n\u001b[0;32m      <a href='vscode-notebook-cell:Untitled-1.ipynb?jupyter-notebook#ch0000002untitled?line=7'>8</a>\u001b[0m worldBound_path \u001b[39m=\u001b[39m os\u001b[39m.\u001b[39mpath\u001b[39m.\u001b[39mjoin(\n\u001b[0;32m      <a href='vscode-notebook-cell:Untitled-1.ipynb?jupyter-notebook#ch0000002untitled?line=8'>9</a>\u001b[0m     \u001b[39m\"\u001b[39m\u001b[39mglobal\u001b[39m\u001b[39m\"\u001b[39m,\n\u001b[0;32m     <a href='vscode-notebook-cell:Untitled-1.ipynb?jupyter-notebook#ch0000002untitled?line=9'>10</a>\u001b[0m     \u001b[39m\"\u001b[39m\u001b[39mne_110m_land\u001b[39m\u001b[39m\"\u001b[39m,\n\u001b[0;32m     <a href='vscode-notebook-cell:Untitled-1.ipynb?jupyter-notebook#ch0000002untitled?line=10'>11</a>\u001b[0m     \u001b[39m\"\u001b[39m\u001b[39mne_110m_land.shp\u001b[39m\u001b[39m\"\u001b[39m\n\u001b[0;32m     <a href='vscode-notebook-cell:Untitled-1.ipynb?jupyter-notebook#ch0000002untitled?line=11'>12</a>\u001b[0m )\n\u001b[1;32m---> <a href='vscode-notebook-cell:Untitled-1.ipynb?jupyter-notebook#ch0000002untitled?line=12'>13</a>\u001b[0m worldBound \u001b[39m=\u001b[39m gpd\u001b[39m.\u001b[39;49mread_file(worldBound_path)\n",
      "File \u001b[1;32m~\\.conda\\envs\\harvest\\lib\\site-packages\\geopandas\\io\\file.py:201\u001b[0m, in \u001b[0;36m_read_file\u001b[1;34m(filename, bbox, mask, rows, **kwargs)\u001b[0m\n\u001b[0;32m    <a href='file:///~/.conda/envs/harvest/lib/site-packages/geopandas/io/file.py?line=197'>198</a>\u001b[0m     reader \u001b[39m=\u001b[39m fiona\u001b[39m.\u001b[39mopen\n\u001b[0;32m    <a href='file:///~/.conda/envs/harvest/lib/site-packages/geopandas/io/file.py?line=199'>200</a>\u001b[0m \u001b[39mwith\u001b[39;00m fiona_env():\n\u001b[1;32m--> <a href='file:///~/.conda/envs/harvest/lib/site-packages/geopandas/io/file.py?line=200'>201</a>\u001b[0m     \u001b[39mwith\u001b[39;00m reader(path_or_bytes, \u001b[39m*\u001b[39m\u001b[39m*\u001b[39mkwargs) \u001b[39mas\u001b[39;00m features:\n\u001b[0;32m    <a href='file:///~/.conda/envs/harvest/lib/site-packages/geopandas/io/file.py?line=201'>202</a>\u001b[0m \n\u001b[0;32m    <a href='file:///~/.conda/envs/harvest/lib/site-packages/geopandas/io/file.py?line=202'>203</a>\u001b[0m         \u001b[39m# In a future Fiona release the crs attribute of features will\u001b[39;00m\n\u001b[0;32m    <a href='file:///~/.conda/envs/harvest/lib/site-packages/geopandas/io/file.py?line=203'>204</a>\u001b[0m         \u001b[39m# no longer be a dict, but will behave like a dict. So this should\u001b[39;00m\n\u001b[0;32m    <a href='file:///~/.conda/envs/harvest/lib/site-packages/geopandas/io/file.py?line=204'>205</a>\u001b[0m         \u001b[39m# be forwards compatible\u001b[39;00m\n\u001b[0;32m    <a href='file:///~/.conda/envs/harvest/lib/site-packages/geopandas/io/file.py?line=205'>206</a>\u001b[0m         crs \u001b[39m=\u001b[39m (\n\u001b[0;32m    <a href='file:///~/.conda/envs/harvest/lib/site-packages/geopandas/io/file.py?line=206'>207</a>\u001b[0m             features\u001b[39m.\u001b[39mcrs[\u001b[39m\"\u001b[39m\u001b[39minit\u001b[39m\u001b[39m\"\u001b[39m]\n\u001b[0;32m    <a href='file:///~/.conda/envs/harvest/lib/site-packages/geopandas/io/file.py?line=207'>208</a>\u001b[0m             \u001b[39mif\u001b[39;00m features\u001b[39m.\u001b[39mcrs \u001b[39mand\u001b[39;00m \u001b[39m\"\u001b[39m\u001b[39minit\u001b[39m\u001b[39m\"\u001b[39m \u001b[39min\u001b[39;00m features\u001b[39m.\u001b[39mcrs\n\u001b[0;32m    <a href='file:///~/.conda/envs/harvest/lib/site-packages/geopandas/io/file.py?line=208'>209</a>\u001b[0m             \u001b[39melse\u001b[39;00m features\u001b[39m.\u001b[39mcrs_wkt\n\u001b[0;32m    <a href='file:///~/.conda/envs/harvest/lib/site-packages/geopandas/io/file.py?line=209'>210</a>\u001b[0m         )\n\u001b[0;32m    <a href='file:///~/.conda/envs/harvest/lib/site-packages/geopandas/io/file.py?line=211'>212</a>\u001b[0m         \u001b[39m# handle loading the bounding box\u001b[39;00m\n",
      "File \u001b[1;32m~\\.conda\\envs\\harvest\\lib\\site-packages\\fiona\\env.py:408\u001b[0m, in \u001b[0;36mensure_env_with_credentials.<locals>.wrapper\u001b[1;34m(*args, **kwargs)\u001b[0m\n\u001b[0;32m    <a href='file:///~/.conda/envs/harvest/lib/site-packages/fiona/env.py?line=404'>405</a>\u001b[0m \u001b[39m@wraps\u001b[39m(f)\n\u001b[0;32m    <a href='file:///~/.conda/envs/harvest/lib/site-packages/fiona/env.py?line=405'>406</a>\u001b[0m \u001b[39mdef\u001b[39;00m \u001b[39mwrapper\u001b[39m(\u001b[39m*\u001b[39margs, \u001b[39m*\u001b[39m\u001b[39m*\u001b[39mkwargs):\n\u001b[0;32m    <a href='file:///~/.conda/envs/harvest/lib/site-packages/fiona/env.py?line=406'>407</a>\u001b[0m     \u001b[39mif\u001b[39;00m local\u001b[39m.\u001b[39m_env:\n\u001b[1;32m--> <a href='file:///~/.conda/envs/harvest/lib/site-packages/fiona/env.py?line=407'>408</a>\u001b[0m         \u001b[39mreturn\u001b[39;00m f(\u001b[39m*\u001b[39margs, \u001b[39m*\u001b[39m\u001b[39m*\u001b[39mkwargs)\n\u001b[0;32m    <a href='file:///~/.conda/envs/harvest/lib/site-packages/fiona/env.py?line=408'>409</a>\u001b[0m     \u001b[39melse\u001b[39;00m:\n\u001b[0;32m    <a href='file:///~/.conda/envs/harvest/lib/site-packages/fiona/env.py?line=409'>410</a>\u001b[0m         \u001b[39mif\u001b[39;00m \u001b[39misinstance\u001b[39m(args[\u001b[39m0\u001b[39m], \u001b[39mstr\u001b[39m):\n",
      "File \u001b[1;32m~\\.conda\\envs\\harvest\\lib\\site-packages\\fiona\\__init__.py:256\u001b[0m, in \u001b[0;36mopen\u001b[1;34m(fp, mode, driver, schema, crs, encoding, layer, vfs, enabled_drivers, crs_wkt, **kwargs)\u001b[0m\n\u001b[0;32m    <a href='file:///~/.conda/envs/harvest/lib/site-packages/fiona/__init__.py?line=252'>253</a>\u001b[0m     path \u001b[39m=\u001b[39m parse_path(fp)\n\u001b[0;32m    <a href='file:///~/.conda/envs/harvest/lib/site-packages/fiona/__init__.py?line=254'>255</a>\u001b[0m \u001b[39mif\u001b[39;00m mode \u001b[39min\u001b[39;00m (\u001b[39m'\u001b[39m\u001b[39ma\u001b[39m\u001b[39m'\u001b[39m, \u001b[39m'\u001b[39m\u001b[39mr\u001b[39m\u001b[39m'\u001b[39m):\n\u001b[1;32m--> <a href='file:///~/.conda/envs/harvest/lib/site-packages/fiona/__init__.py?line=255'>256</a>\u001b[0m     c \u001b[39m=\u001b[39m Collection(path, mode, driver\u001b[39m=\u001b[39mdriver, encoding\u001b[39m=\u001b[39mencoding,\n\u001b[0;32m    <a href='file:///~/.conda/envs/harvest/lib/site-packages/fiona/__init__.py?line=256'>257</a>\u001b[0m                    layer\u001b[39m=\u001b[39mlayer, enabled_drivers\u001b[39m=\u001b[39menabled_drivers, \u001b[39m*\u001b[39m\u001b[39m*\u001b[39mkwargs)\n\u001b[0;32m    <a href='file:///~/.conda/envs/harvest/lib/site-packages/fiona/__init__.py?line=257'>258</a>\u001b[0m \u001b[39melif\u001b[39;00m mode \u001b[39m==\u001b[39m \u001b[39m'\u001b[39m\u001b[39mw\u001b[39m\u001b[39m'\u001b[39m:\n\u001b[0;32m    <a href='file:///~/.conda/envs/harvest/lib/site-packages/fiona/__init__.py?line=258'>259</a>\u001b[0m     \u001b[39mif\u001b[39;00m schema:\n\u001b[0;32m    <a href='file:///~/.conda/envs/harvest/lib/site-packages/fiona/__init__.py?line=259'>260</a>\u001b[0m         \u001b[39m# Make an ordered dict of schema properties.\u001b[39;00m\n",
      "File \u001b[1;32m~\\.conda\\envs\\harvest\\lib\\site-packages\\fiona\\collection.py:162\u001b[0m, in \u001b[0;36mCollection.__init__\u001b[1;34m(self, path, mode, driver, schema, crs, encoding, layer, vsi, archive, enabled_drivers, crs_wkt, ignore_fields, ignore_geometry, **kwargs)\u001b[0m\n\u001b[0;32m    <a href='file:///~/.conda/envs/harvest/lib/site-packages/fiona/collection.py?line=159'>160</a>\u001b[0m \u001b[39mif\u001b[39;00m \u001b[39mself\u001b[39m\u001b[39m.\u001b[39mmode \u001b[39m==\u001b[39m \u001b[39m'\u001b[39m\u001b[39mr\u001b[39m\u001b[39m'\u001b[39m:\n\u001b[0;32m    <a href='file:///~/.conda/envs/harvest/lib/site-packages/fiona/collection.py?line=160'>161</a>\u001b[0m     \u001b[39mself\u001b[39m\u001b[39m.\u001b[39msession \u001b[39m=\u001b[39m Session()\n\u001b[1;32m--> <a href='file:///~/.conda/envs/harvest/lib/site-packages/fiona/collection.py?line=161'>162</a>\u001b[0m     \u001b[39mself\u001b[39m\u001b[39m.\u001b[39msession\u001b[39m.\u001b[39mstart(\u001b[39mself\u001b[39m, \u001b[39m*\u001b[39m\u001b[39m*\u001b[39mkwargs)\n\u001b[0;32m    <a href='file:///~/.conda/envs/harvest/lib/site-packages/fiona/collection.py?line=162'>163</a>\u001b[0m \u001b[39melif\u001b[39;00m \u001b[39mself\u001b[39m\u001b[39m.\u001b[39mmode \u001b[39min\u001b[39;00m (\u001b[39m'\u001b[39m\u001b[39ma\u001b[39m\u001b[39m'\u001b[39m, \u001b[39m'\u001b[39m\u001b[39mw\u001b[39m\u001b[39m'\u001b[39m):\n\u001b[0;32m    <a href='file:///~/.conda/envs/harvest/lib/site-packages/fiona/collection.py?line=163'>164</a>\u001b[0m     \u001b[39mself\u001b[39m\u001b[39m.\u001b[39msession \u001b[39m=\u001b[39m WritingSession()\n",
      "File \u001b[1;32mfiona\\ogrext.pyx:540\u001b[0m, in \u001b[0;36mfiona.ogrext.Session.start\u001b[1;34m()\u001b[0m\n",
      "File \u001b[1;32mfiona\\_shim.pyx:90\u001b[0m, in \u001b[0;36mfiona._shim.gdal_open_vector\u001b[1;34m()\u001b[0m\n",
      "\u001b[1;31mDriverError\u001b[0m: global\\ne_110m_land\\ne_110m_land.shp: No such file or directory"
     ]
    }
   ],
   "source": [
    "#SET DIRECTORY AND GET DATA\n",
    "\n",
    "#making space for directory\n",
    "data = et.data.get_data('spatial-vector-lidar')\n",
    "os.chdir(os.path.join(et.io.HOME, 'earth-analytics'))\n",
    "\n",
    "#getting the data\n",
    "worldBound_path = os.path.join(\n",
    "    \"global\",\n",
    "    \"ne_110m_land\",\n",
    "    \"ne_110m_land.shp\"\n",
    ")\n",
    "worldBound = gpd.read_file(worldBound_path)"
   ]
  },
  {
   "cell_type": "code",
   "execution_count": null,
   "metadata": {},
   "outputs": [],
   "source": []
  }
 ],
 "metadata": {
  "interpreter": {
   "hash": "1e60aac3701146e5d3a59a34299a7ecfb643e325523c0fb0ea978afc02c5f01c"
  },
  "kernelspec": {
   "display_name": "Python 3.9.10 ('harvest')",
   "language": "python",
   "name": "python3"
  },
  "language_info": {
   "codemirror_mode": {
    "name": "ipython",
    "version": 3
   },
   "file_extension": ".py",
   "mimetype": "text/x-python",
   "name": "python",
   "nbconvert_exporter": "python",
   "pygments_lexer": "ipython3",
   "version": "3.9.10"
  },
  "orig_nbformat": 4
 },
 "nbformat": 4,
 "nbformat_minor": 2
}
