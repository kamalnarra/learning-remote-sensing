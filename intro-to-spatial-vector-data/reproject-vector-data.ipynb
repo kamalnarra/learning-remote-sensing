{
 "cells": [
  {
   "cell_type": "code",
   "execution_count": null,
   "metadata": {},
   "outputs": [],
   "source": [
    "#SETUP\n",
    "\n",
    "#import\n",
    "import os \n",
    "import numpy as np\n",
    "import matplotlib.pyplot as plt\n",
    "import seaborn as sns\n",
    "import geopandas as gpd\n",
    "import earthpy as et\n",
    "\n",
    "#styling\n",
    "sns.set_style(\"white\")\n",
    "sns.set(font_scale=1.5)\n",
    "\n",
    "#get data\n",
    "data = et.data.get_data('spatial-vector-lidar')\n",
    "os.chdir(os.path.join(et.io.HOME, 'earth-analytics'))"
   ]
  }
 ],
 "metadata": {
  "interpreter": {
   "hash": "1e60aac3701146e5d3a59a34299a7ecfb643e325523c0fb0ea978afc02c5f01c"
  },
  "kernelspec": {
   "display_name": "Python 3.9.10 ('harvest')",
   "language": "python",
   "name": "python3"
  },
  "language_info": {
   "name": "python",
   "version": "3.9.10"
  },
  "orig_nbformat": 4
 },
 "nbformat": 4,
 "nbformat_minor": 2
}
